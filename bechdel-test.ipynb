{
 "cells": [
  {
   "cell_type": "markdown",
   "metadata": {},
   "source": [
    "# Gender Equality in Film: The Bechdel Test\n",
    "\n",
    "Based on the Bechdel Test criteria:\n",
    "    - More than two female characters\n",
    "    - Female characters talk to each other\n",
    "    - Female characters talk about something other than men"
   ]
  },
  {
   "cell_type": "code",
   "execution_count": 144,
   "metadata": {
    "collapsed": false
   },
   "outputs": [
    {
     "name": "stdout",
     "output_type": "stream",
     "text": [
      "[nltk_data] Downloading package punkt to /home/vinitra/nltk_data...\n",
      "[nltk_data]   Package punkt is already up-to-date!\n",
      "[nltk_data] Downloading package words to /home/vinitra/nltk_data...\n",
      "[nltk_data]   Package words is already up-to-date!\n",
      "[nltk_data] Downloading package stopwords to\n",
      "[nltk_data]     /home/vinitra/nltk_data...\n",
      "[nltk_data]   Package stopwords is already up-to-date!\n",
      "[nltk_data] Downloading package averaged_perceptron_tagger to\n",
      "[nltk_data]     /home/vinitra/nltk_data...\n",
      "[nltk_data]   Package averaged_perceptron_tagger is already up-to-\n",
      "[nltk_data]       date!\n",
      "[nltk_data] Downloading package maxent_ne_chunker to\n",
      "[nltk_data]     /home/vinitra/nltk_data...\n",
      "[nltk_data]   Package maxent_ne_chunker is already up-to-date!\n"
     ]
    }
   ],
   "source": [
    "import nltk\n",
    "modules = [\"punkt\", \"words\", \"stopwords\", \"averaged_perceptron_tagger\", \"maxent_ne_chunker\"]\n",
    "for module in modules:\n",
    "    nltk.download(module)\n",
    "    \n",
    "import matplotlib\n",
    "%matplotlib inline\n",
    "import matplotlib.pyplot as plt\n",
    "plt.style.use('fivethirtyeight')\n",
    "\n",
    "from datascience import *\n",
    "import numpy as np\n",
    "\n",
    "import locale\n",
    "import re\n",
    "import csv\n",
    "import string\n",
    "from collections import Counter"
   ]
  },
  {
   "cell_type": "code",
   "execution_count": 145,
   "metadata": {
    "collapsed": false
   },
   "outputs": [
    {
     "data": {
      "text/html": [
       "<table border=\"1\" class=\"dataframe\">\n",
       "    <thead>\n",
       "        <tr>\n",
       "            <th>Movie Title</th> <th>Passes Bechdel Test?</th> <th>Number of Criteria Passed</th> <th>Clarity of Pass</th> <th>Has at least two [named] women in it</th> <th>The women talk to each other</th> <th>The women talk about something besides a man</th> <th>Genre</th> <th>Director</th> <th>Main Actors</th> <th>Production Comapany</th> <th>Plot Keywords (top 10)</th> <th>Year</th> <th>Rating</th> <th>Runtime (min)</th> <th>Plot</th> <th>Language</th> <th>Country</th> <th>Image</th> <th>IMDb Popularity Score</th> <th>Award Popularity</th> <th>IMDb rating</th> <th>IMDb votes</th> <th>Nominations</th> <th>Wins</th> <th>IMDB Link</th>\n",
       "        </tr>\n",
       "    </thead>\n",
       "    <tbody>\n",
       "        <tr>\n",
       "            <td>[REC]3 Genesis (2012)</td> <td>Yes                 </td> <td>3                        </td> <td>Clear          </td> <td>Pass                                </td> <td>Pass                        </td> <td>Pass                                        </td> <td>Horror          </td> <td>Paco Plaza    </td> <td>Leticia Dolera, Diego Martín, Ismael Martínez, Àlex Monner</td> <td>Canal+ España, Filmax, Generalitat de Catalunya - Instit ...</td> <td>wedding, infection, church, third part, female stockinge ...</td> <td>2012</td> <td>Restricted</td> <td>80           </td> <td>A couple's wedding day turns horrific as some of the gue ...</td> <td>Spanish, Catalan, French</td> <td>Spain        </td> <td>http://ia.media-imdb.com/images/M/MV5BNDM3OTUzMTA1OF5BMl ...</td> <td>101266               </td> <td>21              </td> <td>5.1        </td> <td>19,856    </td> <td>6          </td> <td>3   </td> <td>http://www.imdb.com/title/tt1649444/</td>\n",
       "        </tr>\n",
       "    </tbody>\n",
       "        <tr>\n",
       "            <td>+1 (2013)            </td> <td>Yes                 </td> <td>3                        </td> <td>Dubious        </td> <td>Pass                                </td> <td>Pass                        </td> <td>Pass                                        </td> <td>Sci-Fi, Thriller</td> <td>Dennis Iliadis</td> <td>Rhys Wakefield, Logan Miller, Ashley Hinshaw, Natalie Hall</td> <td>Process Films, Process Media                                </td> <td>party, college, hero kills a woman, woman stabbed, nude  ...</td> <td>2013</td> <td>Not Rated </td> <td>95           </td> <td>Three college friends hit the biggest party of the year, ...</td> <td>English                 </td> <td>United States</td> <td>http://ia.media-imdb.com/images/M/MV5BMTQwOTA5Mzc3Ml5BMl ...</td> <td>22693                </td> <td>nan             </td> <td>5.5        </td> <td>4,126     </td> <td>nan        </td> <td>nan </td> <td>http://www.imdb.com/title/tt2395385/</td>\n",
       "        </tr>\n",
       "    </tbody>\n",
       "        <tr>\n",
       "            <td>11 Flowers (2011)    </td> <td>Yes                 </td> <td>3                        </td> <td>Dubious        </td> <td>Pass                                </td> <td>Pass                        </td> <td>Pass                                        </td> <td>Drama           </td> <td>Xiaoshuai Wang</td> <td>Gang Cao, Shiping Cao, Wenqing Liu, Yihao Lou             </td> <td>nan                                                         </td> <td>childhood friend, pregnant from rape, sentenced to death ...</td> <td>2011</td> <td>Not Rated </td> <td>110          </td> <td>nan                                                         </td> <td>Mandarin, Shanghainese  </td> <td>China, France</td> <td>http://ia.media-imdb.com/images/M/MV5BMTQwOTYyMTU1NF5BMl ...</td> <td>2583                 </td> <td>6               </td> <td>7          </td> <td>369       </td> <td>6          </td> <td>nan </td> <td>http://www.imdb.com/title/tt2042432/</td>\n",
       "        </tr>\n",
       "    </tbody>\n",
       "</table>\n",
       "<p>... (1450 rows omitted)</p"
      ],
      "text/plain": [
       "<IPython.core.display.HTML object>"
      ]
     },
     "metadata": {},
     "output_type": "display_data"
    }
   ],
   "source": [
    "bechdel = Table.read_table('datasets/2010_2014MoviesTested.csv')\n",
    "passes_bechdel = bechdel.where(1, 'Yes')\n",
    "fails_bechdel = bechdel.where(1, 'No')\n",
    "\n",
    "bechdel.show(3)"
   ]
  },
  {
   "cell_type": "code",
   "execution_count": 146,
   "metadata": {
    "collapsed": false
   },
   "outputs": [
    {
     "name": "stdout",
     "output_type": "stream",
     "text": [
      "63.32% movies from our dataset pass the bechdel test\n"
     ]
    }
   ],
   "source": [
    "proportion_of_passes = passes_bechdel.num_rows/bechdel.num_rows\n",
    "print(str(round(proportion_of_passes*100, 2)) + \"% movies from our dataset pass the bechdel test\")"
   ]
  },
  {
   "cell_type": "markdown",
   "metadata": {},
   "source": [
    "## Genre Analysis\n",
    "\n",
    "For the movies that don't pass, do a frequency count on the genres to compare the most common entries"
   ]
  },
  {
   "cell_type": "code",
   "execution_count": 147,
   "metadata": {
    "collapsed": true
   },
   "outputs": [],
   "source": [
    "\n",
    "def list_flattening(l):\n",
    "    return [item for sublist in l for item in sublist]\n",
    "\n",
    "def clean_words(table, col):\n",
    "    return list_flattening([genre.split(\", \") for genre in table[col]])\n",
    "    "
   ]
  },
  {
   "cell_type": "code",
   "execution_count": 148,
   "metadata": {
    "collapsed": false
   },
   "outputs": [
    {
     "data": {
      "text/html": [
       "<table border=\"1\" class=\"dataframe\">\n",
       "    <thead>\n",
       "        <tr>\n",
       "            <th>Genre</th> <th>count</th> <th>f proportion</th>\n",
       "        </tr>\n",
       "    </thead>\n",
       "    <tbody>\n",
       "        <tr>\n",
       "            <td>Drama    </td> <td>248  </td> <td>0.203112    </td>\n",
       "        </tr>\n",
       "    </tbody>\n",
       "        <tr>\n",
       "            <td>Comedy   </td> <td>188  </td> <td>0.153972    </td>\n",
       "        </tr>\n",
       "    </tbody>\n",
       "        <tr>\n",
       "            <td>Action   </td> <td>139  </td> <td>0.113841    </td>\n",
       "        </tr>\n",
       "    </tbody>\n",
       "        <tr>\n",
       "            <td>Thriller </td> <td>111  </td> <td>0.0909091   </td>\n",
       "        </tr>\n",
       "    </tbody>\n",
       "        <tr>\n",
       "            <td>Crime    </td> <td>84   </td> <td>0.0687961   </td>\n",
       "        </tr>\n",
       "    </tbody>\n",
       "        <tr>\n",
       "            <td>Adventure</td> <td>83   </td> <td>0.0679771   </td>\n",
       "        </tr>\n",
       "    </tbody>\n",
       "        <tr>\n",
       "            <td>Sci-Fi   </td> <td>58   </td> <td>0.047502    </td>\n",
       "        </tr>\n",
       "    </tbody>\n",
       "        <tr>\n",
       "            <td>Romance  </td> <td>50   </td> <td>0.04095     </td>\n",
       "        </tr>\n",
       "    </tbody>\n",
       "        <tr>\n",
       "            <td>Horror   </td> <td>39   </td> <td>0.031941    </td>\n",
       "        </tr>\n",
       "    </tbody>\n",
       "        <tr>\n",
       "            <td>Animation</td> <td>38   </td> <td>0.031122    </td>\n",
       "        </tr>\n",
       "    </tbody>\n",
       "</table>\n",
       "<p>... (13 rows omitted)</p"
      ],
      "text/plain": [
       "Genre     | count | f proportion\n",
       "Drama     | 248   | 0.203112\n",
       "Comedy    | 188   | 0.153972\n",
       "Action    | 139   | 0.113841\n",
       "Thriller  | 111   | 0.0909091\n",
       "Crime     | 84    | 0.0687961\n",
       "Adventure | 83    | 0.0679771\n",
       "Sci-Fi    | 58    | 0.047502\n",
       "Romance   | 50    | 0.04095\n",
       "Horror    | 39    | 0.031941\n",
       "Animation | 38    | 0.031122\n",
       "... (13 rows omitted)"
      ]
     },
     "execution_count": 148,
     "metadata": {},
     "output_type": "execute_result"
    }
   ],
   "source": [
    "f_genres = clean_words(fails_bechdel, 'Genre')\n",
    "f_genre_count = Table().with_column('Genre', f_genres).group('Genre').sort('count', descending=True)\n",
    "f_genre_count = f_genre_count.with_column('f proportion', f_genre_count['count']/sum(f_genre_count['count']))\n",
    "f_genre_count"
   ]
  },
  {
   "cell_type": "code",
   "execution_count": 149,
   "metadata": {
    "collapsed": false
   },
   "outputs": [
    {
     "data": {
      "text/html": [
       "<table border=\"1\" class=\"dataframe\">\n",
       "    <thead>\n",
       "        <tr>\n",
       "            <th>Genre</th> <th>count</th> <th>p proportion</th>\n",
       "        </tr>\n",
       "    </thead>\n",
       "    <tbody>\n",
       "        <tr>\n",
       "            <td>Drama    </td> <td>506  </td> <td>0.250495    </td>\n",
       "        </tr>\n",
       "    </tbody>\n",
       "        <tr>\n",
       "            <td>Comedy   </td> <td>326  </td> <td>0.161386    </td>\n",
       "        </tr>\n",
       "    </tbody>\n",
       "        <tr>\n",
       "            <td>Romance  </td> <td>149  </td> <td>0.0737624   </td>\n",
       "        </tr>\n",
       "    </tbody>\n",
       "        <tr>\n",
       "            <td>Thriller </td> <td>146  </td> <td>0.0722772   </td>\n",
       "        </tr>\n",
       "    </tbody>\n",
       "        <tr>\n",
       "            <td>Horror   </td> <td>125  </td> <td>0.0618812   </td>\n",
       "        </tr>\n",
       "    </tbody>\n",
       "        <tr>\n",
       "            <td>Action   </td> <td>119  </td> <td>0.0589109   </td>\n",
       "        </tr>\n",
       "    </tbody>\n",
       "        <tr>\n",
       "            <td>Adventure</td> <td>108  </td> <td>0.0534653   </td>\n",
       "        </tr>\n",
       "    </tbody>\n",
       "        <tr>\n",
       "            <td>Crime    </td> <td>79   </td> <td>0.0391089   </td>\n",
       "        </tr>\n",
       "    </tbody>\n",
       "        <tr>\n",
       "            <td>Sci-Fi   </td> <td>76   </td> <td>0.0376238   </td>\n",
       "        </tr>\n",
       "    </tbody>\n",
       "        <tr>\n",
       "            <td>Mystery  </td> <td>63   </td> <td>0.0311881   </td>\n",
       "        </tr>\n",
       "    </tbody>\n",
       "</table>\n",
       "<p>... (13 rows omitted)</p"
      ],
      "text/plain": [
       "Genre     | count | p proportion\n",
       "Drama     | 506   | 0.250495\n",
       "Comedy    | 326   | 0.161386\n",
       "Romance   | 149   | 0.0737624\n",
       "Thriller  | 146   | 0.0722772\n",
       "Horror    | 125   | 0.0618812\n",
       "Action    | 119   | 0.0589109\n",
       "Adventure | 108   | 0.0534653\n",
       "Crime     | 79    | 0.0391089\n",
       "Sci-Fi    | 76    | 0.0376238\n",
       "Mystery   | 63    | 0.0311881\n",
       "... (13 rows omitted)"
      ]
     },
     "execution_count": 149,
     "metadata": {},
     "output_type": "execute_result"
    }
   ],
   "source": [
    "p_genres = clean_genres(passes_bechdel)\n",
    "p_genre_count = Table().with_column('Genre', p_genres).group('Genre').sort('count', descending=True)\n",
    "p_genre_count = p_genre_count.with_column('p proportion', p_genre_count['count']/sum(p_genre_count['count']))\n",
    "p_genre_count"
   ]
  },
  {
   "cell_type": "markdown",
   "metadata": {},
   "source": [
    "Let's find the genres with the biggest disparities between passing and not passing!"
   ]
  },
  {
   "cell_type": "code",
   "execution_count": 222,
   "metadata": {
    "collapsed": false
   },
   "outputs": [
    {
     "data": {
      "text/html": [
       "<table border=\"1\" class=\"dataframe\">\n",
       "    <thead>\n",
       "        <tr>\n",
       "            <th>Genre</th> <th>count</th> <th>p proportion</th> <th>count_2</th> <th>f proportion</th> <th>disparity</th>\n",
       "        </tr>\n",
       "    </thead>\n",
       "    <tbody>\n",
       "        <tr>\n",
       "            <td>Action   </td> <td>119  </td> <td>0.0589109   </td> <td>139    </td> <td>0.113841    </td> <td>54.9302  </td>\n",
       "        </tr>\n",
       "    </tbody>\n",
       "        <tr>\n",
       "            <td>Crime    </td> <td>79   </td> <td>0.0391089   </td> <td>84     </td> <td>0.0687961   </td> <td>29.6872  </td>\n",
       "        </tr>\n",
       "    </tbody>\n",
       "        <tr>\n",
       "            <td>Thriller </td> <td>146  </td> <td>0.0722772   </td> <td>111    </td> <td>0.0909091   </td> <td>18.6319  </td>\n",
       "        </tr>\n",
       "    </tbody>\n",
       "        <tr>\n",
       "            <td>Adventure</td> <td>108  </td> <td>0.0534653   </td> <td>83     </td> <td>0.0679771   </td> <td>14.5117  </td>\n",
       "        </tr>\n",
       "    </tbody>\n",
       "        <tr>\n",
       "            <td>Sci-Fi   </td> <td>76   </td> <td>0.0376238   </td> <td>58     </td> <td>0.047502    </td> <td>9.87829  </td>\n",
       "        </tr>\n",
       "    </tbody>\n",
       "        <tr>\n",
       "            <td>War      </td> <td>7    </td> <td>0.00346535  </td> <td>11     </td> <td>0.00900901  </td> <td>5.54366  </td>\n",
       "        </tr>\n",
       "    </tbody>\n",
       "        <tr>\n",
       "            <td>Western  </td> <td>1    </td> <td>0.00049505  </td> <td>7      </td> <td>0.00573301  </td> <td>5.23796  </td>\n",
       "        </tr>\n",
       "    </tbody>\n",
       "        <tr>\n",
       "            <td>Biography</td> <td>43   </td> <td>0.0212871   </td> <td>32     </td> <td>0.026208    </td> <td>4.9209   </td>\n",
       "        </tr>\n",
       "    </tbody>\n",
       "        <tr>\n",
       "            <td>Sport    </td> <td>7    </td> <td>0.00346535  </td> <td>10     </td> <td>0.00819001  </td> <td>4.72466  </td>\n",
       "        </tr>\n",
       "    </tbody>\n",
       "        <tr>\n",
       "            <td>Short    </td> <td>2    </td> <td>0.000990099 </td> <td>5      </td> <td>0.004095    </td> <td>3.10491  </td>\n",
       "        </tr>\n",
       "    </tbody>\n",
       "</table>\n",
       "<p>... (13 rows omitted)</p"
      ],
      "text/plain": [
       "Genre     | count | p proportion | count_2 | f proportion | disparity\n",
       "Action    | 119   | 0.0589109    | 139     | 0.113841     | 54.9302\n",
       "Crime     | 79    | 0.0391089    | 84      | 0.0687961    | 29.6872\n",
       "Thriller  | 146   | 0.0722772    | 111     | 0.0909091    | 18.6319\n",
       "Adventure | 108   | 0.0534653    | 83      | 0.0679771    | 14.5117\n",
       "Sci-Fi    | 76    | 0.0376238    | 58      | 0.047502     | 9.87829\n",
       "War       | 7     | 0.00346535   | 11      | 0.00900901   | 5.54366\n",
       "Western   | 1     | 0.00049505   | 7       | 0.00573301   | 5.23796\n",
       "Biography | 43    | 0.0212871    | 32      | 0.026208     | 4.9209\n",
       "Sport     | 7     | 0.00346535   | 10      | 0.00819001   | 4.72466\n",
       "Short     | 2     | 0.000990099  | 5       | 0.004095     | 3.10491\n",
       "... (13 rows omitted)"
      ]
     },
     "execution_count": 222,
     "metadata": {},
     "output_type": "execute_result"
    }
   ],
   "source": [
    "# The genres listed below are the genres which have a higher proportion of failed bechdel\n",
    "# movies than passed bechdel movies\n",
    "\n",
    "genre_count = p_genre_count.join(\"Genre\", f_genre_count)\n",
    "genre_count.append_column('disparity', (genre_count['f proportion'] - genre_count['p proportion'])*1000)\n",
    "genre_count.sort('disparity', descending=True)"
   ]
  },
  {
   "cell_type": "code",
   "execution_count": 225,
   "metadata": {
    "collapsed": false
   },
   "outputs": [],
   "source": [
    "# Exporting to CSV\n",
    "genre_list = genre_count.select('disparity', 'Genre')\n",
    "clean = lambda x: int(np.round(x))\n",
    "genre_list = genre_list.with_column('disparity', genre_list.apply(clean, \"disparity\"))\n",
    "genre_list.sort('disparity', descending=True).to_df().to_csv('genre_list.csv', index = False)"
   ]
  },
  {
   "cell_type": "markdown",
   "metadata": {},
   "source": [
    "#### Failing Bechdel Test Genres\n",
    "<img src=\"word_cloud_genre_n.png\">"
   ]
  },
  {
   "cell_type": "markdown",
   "metadata": {},
   "source": [
    "#### Genres of Movies that Pass Bechdel Test\n",
    "<img src=\"word_cloud_genre_p.png\">"
   ]
  },
  {
   "cell_type": "markdown",
   "metadata": {},
   "source": [
    "## Plot Keywords\n",
    "\n",
    "What are the words in the top 10 plot keywords that most indicate a negative bechdel result\n",
    "    - which words are the most distinctly negative words"
   ]
  },
  {
   "cell_type": "code",
   "execution_count": 185,
   "metadata": {
    "collapsed": false
   },
   "outputs": [],
   "source": [
    "# import the snowball stemmer from the nltk to make each word their root\n",
    "from nltk import stem\n",
    "lancaster = stem.lancaster.LancasterStemmer()\n",
    "snowball = stem.snowball.EnglishStemmer()\n",
    "porter = stem.porter.PorterStemmer()\n",
    "\n",
    "from nltk.corpus import stopwords\n",
    "stop_words = set(stopwords.words('english'))\n",
    "\n",
    "def remove_punct_words(lst):\n",
    "    for i in range(len(lst)):\n",
    "        lst[i] = [j.lower() for j in lst[i].split()]\n",
    "        lst[i] = [j.lower() for j in lst[i] if j.lower() not in stop_words]\n",
    "        lst[i] = [snowball.stem(k) for k in lst[i] if k != \"nan\"]\n",
    "    return lst\n"
   ]
  },
  {
   "cell_type": "code",
   "execution_count": 187,
   "metadata": {
    "collapsed": false
   },
   "outputs": [],
   "source": [
    "tables = [bechdel, passes_bechdel, fails_bechdel]\n",
    "k_words = []\n",
    "i = 0\n",
    "for tbl in tables:\n",
    "    k_words.append(remove_punct_words(clean_words(tables[i], 'Plot Keywords (top 10)')))\n",
    "    i += 1"
   ]
  },
  {
   "cell_type": "code",
   "execution_count": 188,
   "metadata": {
    "collapsed": false
   },
   "outputs": [],
   "source": [
    "for i in range(len(k_words)):\n",
    "    k_words[i] = list_flattening(k_words[i])"
   ]
  },
  {
   "cell_type": "code",
   "execution_count": 189,
   "metadata": {
    "collapsed": false
   },
   "outputs": [],
   "source": [
    "k_dicts = []\n",
    "k_tables = []\n",
    "for i in range(len(k_words)):\n",
    "    dict_vals = Counter(k_words[i])\n",
    "    dict_vals['titl'] = 0\n",
    "    k_dicts.append(dict_vals)\n",
    "    k_tables.append(Table().with_columns(\"Stemmed Words\", dict_vals.keys(),\n",
    "                                        \"Count\", dict_vals.values()))"
   ]
  },
  {
   "cell_type": "code",
   "execution_count": 190,
   "metadata": {
    "collapsed": false
   },
   "outputs": [
    {
     "data": {
      "text/html": [
       "<table border=\"1\" class=\"dataframe\">\n",
       "    <thead>\n",
       "        <tr>\n",
       "            <th>Stemmed Words</th> <th>Count</th> <th>Proportion</th>\n",
       "        </tr>\n",
       "    </thead>\n",
       "    <tbody>\n",
       "        <tr>\n",
       "            <td>polic        </td> <td>55   </td> <td>0.000710328</td>\n",
       "        </tr>\n",
       "    </tbody>\n",
       "        <tr>\n",
       "            <td>death        </td> <td>52   </td> <td>0.000142066</td>\n",
       "        </tr>\n",
       "    </tbody>\n",
       "        <tr>\n",
       "            <td>nuditi       </td> <td>51   </td> <td>0.000142066</td>\n",
       "        </tr>\n",
       "    </tbody>\n",
       "        <tr>\n",
       "            <td>relationship </td> <td>48   </td> <td>0.000710328</td>\n",
       "        </tr>\n",
       "    </tbody>\n",
       "        <tr>\n",
       "            <td>femal        </td> <td>47   </td> <td>0.00170479 </td>\n",
       "        </tr>\n",
       "    </tbody>\n",
       "        <tr>\n",
       "            <td>love         </td> <td>40   </td> <td>0.000142066</td>\n",
       "        </tr>\n",
       "    </tbody>\n",
       "        <tr>\n",
       "            <td>refer        </td> <td>38   </td> <td>0.000284131</td>\n",
       "        </tr>\n",
       "    </tbody>\n",
       "        <tr>\n",
       "            <td>male         </td> <td>38   </td> <td>0.000142066</td>\n",
       "        </tr>\n",
       "    </tbody>\n",
       "        <tr>\n",
       "            <td>word         </td> <td>38   </td> <td>0.000142066</td>\n",
       "        </tr>\n",
       "    </tbody>\n",
       "        <tr>\n",
       "            <td>murder       </td> <td>37   </td> <td>0.000284131</td>\n",
       "        </tr>\n",
       "    </tbody>\n",
       "</table>\n",
       "<p>... (2544 rows omitted)</p"
      ],
      "text/plain": [
       "Stemmed Words | Count | Proportion\n",
       "polic         | 55    | 0.000710328\n",
       "death         | 52    | 0.000142066\n",
       "nuditi        | 51    | 0.000142066\n",
       "relationship  | 48    | 0.000710328\n",
       "femal         | 47    | 0.00170479\n",
       "love          | 40    | 0.000142066\n",
       "refer         | 38    | 0.000284131\n",
       "male          | 38    | 0.000142066\n",
       "word          | 38    | 0.000142066\n",
       "murder        | 37    | 0.000284131\n",
       "... (2544 rows omitted)"
      ]
     },
     "execution_count": 190,
     "metadata": {},
     "output_type": "execute_result"
    }
   ],
   "source": [
    "passed_kw = k_tables[1]\n",
    "failed_kw = k_tables[2]\n",
    "failed_kw = failed_kw.sort('Count', descending=True).with_column('Proportion', \\\n",
    "                                                failed_kw['Count']/sum(failed_kw['Count']))\n",
    "failed_kw"
   ]
  },
  {
   "cell_type": "code",
   "execution_count": 191,
   "metadata": {
    "collapsed": false
   },
   "outputs": [
    {
     "data": {
      "text/html": [
       "<table border=\"1\" class=\"dataframe\">\n",
       "    <thead>\n",
       "        <tr>\n",
       "            <th>Stemmed Words</th> <th>Count</th> <th>Proportion</th>\n",
       "        </tr>\n",
       "    </thead>\n",
       "    <tbody>\n",
       "        <tr>\n",
       "            <td>relationship </td> <td>160  </td> <td>0.000253507</td>\n",
       "        </tr>\n",
       "    </tbody>\n",
       "        <tr>\n",
       "            <td>femal        </td> <td>147  </td> <td>8.45023e-05</td>\n",
       "        </tr>\n",
       "    </tbody>\n",
       "        <tr>\n",
       "            <td>nuditi       </td> <td>88   </td> <td>0.00101403 </td>\n",
       "        </tr>\n",
       "    </tbody>\n",
       "        <tr>\n",
       "            <td>woman        </td> <td>77   </td> <td>8.45023e-05</td>\n",
       "        </tr>\n",
       "    </tbody>\n",
       "        <tr>\n",
       "            <td>school       </td> <td>73   </td> <td>0.000169005</td>\n",
       "        </tr>\n",
       "    </tbody>\n",
       "        <tr>\n",
       "            <td>sex          </td> <td>71   </td> <td>0.00160554 </td>\n",
       "        </tr>\n",
       "    </tbody>\n",
       "        <tr>\n",
       "            <td>refer        </td> <td>70   </td> <td>0.000676018</td>\n",
       "        </tr>\n",
       "    </tbody>\n",
       "        <tr>\n",
       "            <td>love         </td> <td>68   </td> <td>8.45023e-05</td>\n",
       "        </tr>\n",
       "    </tbody>\n",
       "        <tr>\n",
       "            <td>daughter     </td> <td>67   </td> <td>0.000169005</td>\n",
       "        </tr>\n",
       "    </tbody>\n",
       "        <tr>\n",
       "            <td>mother       </td> <td>64   </td> <td>8.45023e-05</td>\n",
       "        </tr>\n",
       "    </tbody>\n",
       "</table>\n",
       "<p>... (3368 rows omitted)</p"
      ],
      "text/plain": [
       "Stemmed Words | Count | Proportion\n",
       "relationship  | 160   | 0.000253507\n",
       "femal         | 147   | 8.45023e-05\n",
       "nuditi        | 88    | 0.00101403\n",
       "woman         | 77    | 8.45023e-05\n",
       "school        | 73    | 0.000169005\n",
       "sex           | 71    | 0.00160554\n",
       "refer         | 70    | 0.000676018\n",
       "love          | 68    | 8.45023e-05\n",
       "daughter      | 67    | 0.000169005\n",
       "mother        | 64    | 8.45023e-05\n",
       "... (3368 rows omitted)"
      ]
     },
     "execution_count": 191,
     "metadata": {},
     "output_type": "execute_result"
    }
   ],
   "source": [
    "passed_kw = passed_kw.sort('Count', descending=True).with_column('Proportion', \\\n",
    "                                                 passed_kw['Count']/sum(passed_kw['Count']))\n",
    "passed_kw"
   ]
  },
  {
   "cell_type": "markdown",
   "metadata": {},
   "source": [
    "### Which words are most distinctly negative?"
   ]
  },
  {
   "cell_type": "code",
   "execution_count": 206,
   "metadata": {
    "collapsed": false
   },
   "outputs": [
    {
     "name": "stderr",
     "output_type": "stream",
     "text": [
      "/opt/conda/lib/python3.5/site-packages/ipykernel/__main__.py:2: RuntimeWarning: invalid value encountered in true_divide\n",
      "  from ipykernel import kernelapp as app\n"
     ]
    },
    {
     "data": {
      "text/html": [
       "<table border=\"1\" class=\"dataframe\">\n",
       "    <thead>\n",
       "        <tr>\n",
       "            <th>Stemmed Words</th> <th>Count</th> <th>Count_2</th> <th>Proportion</th> <th>Count_3</th> <th>Proportion_2</th> <th>Negative Emphasis</th> <th>Negative Disparity</th>\n",
       "        </tr>\n",
       "    </thead>\n",
       "    <tbody>\n",
       "        <tr>\n",
       "            <td>sister       </td> <td>53   </td> <td>47     </td> <td>8.45023e-05</td> <td>6      </td> <td>0.00667708  </td> <td>0.113208         </td> <td>34.9407           </td>\n",
       "        </tr>\n",
       "    </tbody>\n",
       "        <tr>\n",
       "            <td>femal        </td> <td>194  </td> <td>147    </td> <td>8.45023e-05</td> <td>47     </td> <td>0.00170479  </td> <td>0.242268         </td> <td>31.4335           </td>\n",
       "        </tr>\n",
       "    </tbody>\n",
       "        <tr>\n",
       "            <td>war          </td> <td>28   </td> <td>18     </td> <td>8.45023e-05</td> <td>10     </td> <td>0.00355164  </td> <td>0.357143         </td> <td>9.70799           </td>\n",
       "        </tr>\n",
       "    </tbody>\n",
       "        <tr>\n",
       "            <td>relationship </td> <td>208  </td> <td>160    </td> <td>0.000253507</td> <td>48     </td> <td>0.000710328 </td> <td>0.230769         </td> <td>9.50188           </td>\n",
       "        </tr>\n",
       "    </tbody>\n",
       "        <tr>\n",
       "            <td>base         </td> <td>74   </td> <td>49     </td> <td>0.000253507</td> <td>25     </td> <td>0.00142066  </td> <td>0.337838         </td> <td>8.63691           </td>\n",
       "        </tr>\n",
       "    </tbody>\n",
       "        <tr>\n",
       "            <td>open         </td> <td>26   </td> <td>13     </td> <td>0.000253507</td> <td>13     </td> <td>0.00355164  </td> <td>0.5              </td> <td>8.57515           </td>\n",
       "        </tr>\n",
       "    </tbody>\n",
       "        <tr>\n",
       "            <td>attempt      </td> <td>26   </td> <td>20     </td> <td>0.000338009</td> <td>6      </td> <td>0.00340958  </td> <td>0.230769         </td> <td>7.98607           </td>\n",
       "        </tr>\n",
       "    </tbody>\n",
       "        <tr>\n",
       "            <td>polic        </td> <td>115  </td> <td>60     </td> <td>8.45023e-05</td> <td>55     </td> <td>0.000710328 </td> <td>0.478261         </td> <td>7.197             </td>\n",
       "        </tr>\n",
       "    </tbody>\n",
       "        <tr>\n",
       "            <td>night        </td> <td>16   </td> <td>9      </td> <td>8.45023e-05</td> <td>7      </td> <td>0.00440403  </td> <td>0.4375           </td> <td>6.91125           </td>\n",
       "        </tr>\n",
       "    </tbody>\n",
       "        <tr>\n",
       "            <td>blood        </td> <td>43   </td> <td>31     </td> <td>8.45023e-05</td> <td>12     </td> <td>0.00156272  </td> <td>0.27907          </td> <td>6.35634           </td>\n",
       "        </tr>\n",
       "    </tbody>\n",
       "</table>\n",
       "<p>... (1528 rows omitted)</p"
      ],
      "text/plain": [
       "Stemmed Words | Count | Count_2 | Proportion  | Count_3 | Proportion_2 | Negative Emphasis | Negative Disparity\n",
       "sister        | 53    | 47      | 8.45023e-05 | 6       | 0.00667708   | 0.113208          | 34.9407\n",
       "femal         | 194   | 147     | 8.45023e-05 | 47      | 0.00170479   | 0.242268          | 31.4335\n",
       "war           | 28    | 18      | 8.45023e-05 | 10      | 0.00355164   | 0.357143          | 9.70799\n",
       "relationship  | 208   | 160     | 0.000253507 | 48      | 0.000710328  | 0.230769          | 9.50188\n",
       "base          | 74    | 49      | 0.000253507 | 25      | 0.00142066   | 0.337838          | 8.63691\n",
       "open          | 26    | 13      | 0.000253507 | 13      | 0.00355164   | 0.5               | 8.57515\n",
       "attempt       | 26    | 20      | 0.000338009 | 6       | 0.00340958   | 0.230769          | 7.98607\n",
       "polic         | 115   | 60      | 8.45023e-05 | 55      | 0.000710328  | 0.478261          | 7.197\n",
       "night         | 16    | 9       | 8.45023e-05 | 7       | 0.00440403   | 0.4375            | 6.91125\n",
       "blood         | 43    | 31      | 8.45023e-05 | 12      | 0.00156272   | 0.27907           | 6.35634\n",
       "... (1528 rows omitted)"
      ]
     },
     "execution_count": 206,
     "metadata": {},
     "output_type": "execute_result"
    }
   ],
   "source": [
    "joined_kw = k_tables[0].join(\"Stemmed Words\", passed_kw).join(\"Stemmed Words\", failed_kw)\n",
    "joined_kw = joined_kw.with_column('Negative Emphasis', joined_kw['Count_3']/joined_kw['Count'])\n",
    "joined_kw = joined_kw.with_column('Negative Disparity', (joined_kw['Proportion_2'] - joined_kw['Proportion'])*joined_kw['Count']*100)\n",
    "joined_kw = joined_kw.sort('Negative Disparity', descending=True)\n",
    "joined_kw"
   ]
  },
  {
   "cell_type": "code",
   "execution_count": 221,
   "metadata": {
    "collapsed": false
   },
   "outputs": [],
   "source": [
    "# Exporting to csv\n",
    "word_list = joined_kw.select('Negative Disparity', 'Stemmed Words').take(range(50))\n",
    "clean = lambda x: int(np.round(x))\n",
    "word_list = word_list.with_column('Negative Disparity', word_list.apply(clean, \"Negative Disparity\"))\n",
    "word_list.to_df().to_csv('word_list', index = False)"
   ]
  },
  {
   "cell_type": "markdown",
   "metadata": {},
   "source": [
    "<img src=\"word_cloud_negative_disparity.png\">"
   ]
  },
  {
   "cell_type": "markdown",
   "metadata": {},
   "source": [
    "## Time Series Analysis\n",
    "\n",
    "Compare the years of those that passed with those that didn't pass"
   ]
  },
  {
   "cell_type": "markdown",
   "metadata": {},
   "source": [
    "## Conclusion of Analysis\n",
    "\n",
    "This is what we think -- "
   ]
  }
 ],
 "metadata": {
  "kernelspec": {
   "display_name": "Python 3",
   "language": "python",
   "name": "python3"
  },
  "language_info": {
   "codemirror_mode": {
    "name": "ipython",
    "version": 3
   },
   "file_extension": ".py",
   "mimetype": "text/x-python",
   "name": "python",
   "nbconvert_exporter": "python",
   "pygments_lexer": "ipython3",
   "version": "3.5.2"
  }
 },
 "nbformat": 4,
 "nbformat_minor": 0
}
