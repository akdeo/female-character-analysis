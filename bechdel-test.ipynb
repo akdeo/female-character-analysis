{
 "cells": [
  {
   "cell_type": "code",
   "execution_count": 1,
   "metadata": {
    "collapsed": false
   },
   "outputs": [
    {
     "name": "stdout",
     "output_type": "stream",
     "text": [
      "[nltk_data] Downloading package punkt to /home/vinitra/nltk_data...\n",
      "[nltk_data]   Package punkt is already up-to-date!\n",
      "[nltk_data] Downloading package words to /home/vinitra/nltk_data...\n",
      "[nltk_data]   Package words is already up-to-date!\n",
      "[nltk_data] Downloading package stopwords to\n",
      "[nltk_data]     /home/vinitra/nltk_data...\n",
      "[nltk_data]   Package stopwords is already up-to-date!\n",
      "[nltk_data] Downloading package averaged_perceptron_tagger to\n",
      "[nltk_data]     /home/vinitra/nltk_data...\n",
      "[nltk_data]   Package averaged_perceptron_tagger is already up-to-\n",
      "[nltk_data]       date!\n",
      "[nltk_data] Downloading package maxent_ne_chunker to\n",
      "[nltk_data]     /home/vinitra/nltk_data...\n",
      "[nltk_data]   Package maxent_ne_chunker is already up-to-date!\n"
     ]
    }
   ],
   "source": [
    "import nltk\n",
    "modules = [\"punkt\", \"words\", \"stopwords\", \"averaged_perceptron_tagger\", \"maxent_ne_chunker\"]\n",
    "for module in modules:\n",
    "    nltk.download(module)\n",
    "    \n",
    "import matplotlib\n",
    "%matplotlib inline\n",
    "import matplotlib.pyplot as plt\n",
    "plt.style.use('fivethirtyeight')\n",
    "\n",
    "from datascience import *\n",
    "import numpy as np\n",
    "\n",
    "import locale\n",
    "import re\n",
    "import csv\n",
    "import string\n",
    "from collections import Counter"
   ]
  },
  {
   "cell_type": "code",
   "execution_count": 11,
   "metadata": {
    "collapsed": false
   },
   "outputs": [
    {
     "name": "stdout",
     "output_type": "stream",
     "text": [
      "63.32% movies from our dataset pass the bechdel test\n"
     ]
    }
   ],
   "source": [
    "bechdel = Table.read_table('datasets/2010_2014MoviesTested.csv')\n",
    "passes_bechdel = bechdel.where(1, 'Yes')\n",
    "fails_bechdel = bechdel.where(1, 'No')\n",
    "\n",
    "proportion_of_passes = passes_bechdel.num_rows/bechdel.num_rows\n",
    "print(str(round(proportion_of_passes*100, 2)) + \"% movies from our dataset pass the bechdel test\")"
   ]
  },
  {
   "cell_type": "markdown",
   "metadata": {},
   "source": [
    "### Genre Analysis\n",
    "\n",
    "For the movies that don't pass, do a frequency count on the genres to compare the most common entries"
   ]
  },
  {
   "cell_type": "code",
   "execution_count": 31,
   "metadata": {
    "collapsed": true
   },
   "outputs": [],
   "source": [
    "def list_flattening(l):\n",
    "    return [item for sublist in l for item in sublist]\n",
    "\n",
    "def clean_genres(table):\n",
    "    return list_flattening([genre.split(\", \") for genre in table['Genre']])\n",
    "    "
   ]
  },
  {
   "cell_type": "code",
   "execution_count": 43,
   "metadata": {
    "collapsed": false
   },
   "outputs": [
    {
     "data": {
      "text/html": [
       "<table border=\"1\" class=\"dataframe\">\n",
       "    <thead>\n",
       "        <tr>\n",
       "            <th>Genre</th> <th>count</th> <th>f proportion</th>\n",
       "        </tr>\n",
       "    </thead>\n",
       "    <tbody>\n",
       "        <tr>\n",
       "            <td>Drama    </td> <td>248  </td> <td>0.203112    </td>\n",
       "        </tr>\n",
       "    </tbody>\n",
       "        <tr>\n",
       "            <td>Comedy   </td> <td>188  </td> <td>0.153972    </td>\n",
       "        </tr>\n",
       "    </tbody>\n",
       "        <tr>\n",
       "            <td>Action   </td> <td>139  </td> <td>0.113841    </td>\n",
       "        </tr>\n",
       "    </tbody>\n",
       "        <tr>\n",
       "            <td>Thriller </td> <td>111  </td> <td>0.0909091   </td>\n",
       "        </tr>\n",
       "    </tbody>\n",
       "        <tr>\n",
       "            <td>Crime    </td> <td>84   </td> <td>0.0687961   </td>\n",
       "        </tr>\n",
       "    </tbody>\n",
       "        <tr>\n",
       "            <td>Adventure</td> <td>83   </td> <td>0.0679771   </td>\n",
       "        </tr>\n",
       "    </tbody>\n",
       "        <tr>\n",
       "            <td>Sci-Fi   </td> <td>58   </td> <td>0.047502    </td>\n",
       "        </tr>\n",
       "    </tbody>\n",
       "        <tr>\n",
       "            <td>Romance  </td> <td>50   </td> <td>0.04095     </td>\n",
       "        </tr>\n",
       "    </tbody>\n",
       "        <tr>\n",
       "            <td>Horror   </td> <td>39   </td> <td>0.031941    </td>\n",
       "        </tr>\n",
       "    </tbody>\n",
       "        <tr>\n",
       "            <td>Animation</td> <td>38   </td> <td>0.031122    </td>\n",
       "        </tr>\n",
       "    </tbody>\n",
       "</table>\n",
       "<p>... (13 rows omitted)</p"
      ],
      "text/plain": [
       "Genre     | count | f proportion\n",
       "Drama     | 248   | 0.203112\n",
       "Comedy    | 188   | 0.153972\n",
       "Action    | 139   | 0.113841\n",
       "Thriller  | 111   | 0.0909091\n",
       "Crime     | 84    | 0.0687961\n",
       "Adventure | 83    | 0.0679771\n",
       "Sci-Fi    | 58    | 0.047502\n",
       "Romance   | 50    | 0.04095\n",
       "Horror    | 39    | 0.031941\n",
       "Animation | 38    | 0.031122\n",
       "... (13 rows omitted)"
      ]
     },
     "execution_count": 43,
     "metadata": {},
     "output_type": "execute_result"
    }
   ],
   "source": [
    "f_genres = clean_genres(fails_bechdel)\n",
    "f_genre_count = Table().with_column('Genre', f_genres).group('Genre').sort('count', descending=True)\n",
    "f_genre_count = f_genre_count.with_column('f proportion', f_genre_count['count']/sum(f_genre_count['count']))\n",
    "f_genre_count"
   ]
  },
  {
   "cell_type": "code",
   "execution_count": 47,
   "metadata": {
    "collapsed": false
   },
   "outputs": [
    {
     "data": {
      "text/html": [
       "<table border=\"1\" class=\"dataframe\">\n",
       "    <thead>\n",
       "        <tr>\n",
       "            <th>Genre</th> <th>count</th> <th>p proportion</th>\n",
       "        </tr>\n",
       "    </thead>\n",
       "    <tbody>\n",
       "        <tr>\n",
       "            <td>Drama    </td> <td>506  </td> <td>0.250495    </td>\n",
       "        </tr>\n",
       "    </tbody>\n",
       "        <tr>\n",
       "            <td>Comedy   </td> <td>326  </td> <td>0.161386    </td>\n",
       "        </tr>\n",
       "    </tbody>\n",
       "        <tr>\n",
       "            <td>Romance  </td> <td>149  </td> <td>0.0737624   </td>\n",
       "        </tr>\n",
       "    </tbody>\n",
       "        <tr>\n",
       "            <td>Thriller </td> <td>146  </td> <td>0.0722772   </td>\n",
       "        </tr>\n",
       "    </tbody>\n",
       "        <tr>\n",
       "            <td>Horror   </td> <td>125  </td> <td>0.0618812   </td>\n",
       "        </tr>\n",
       "    </tbody>\n",
       "        <tr>\n",
       "            <td>Action   </td> <td>119  </td> <td>0.0589109   </td>\n",
       "        </tr>\n",
       "    </tbody>\n",
       "        <tr>\n",
       "            <td>Adventure</td> <td>108  </td> <td>0.0534653   </td>\n",
       "        </tr>\n",
       "    </tbody>\n",
       "        <tr>\n",
       "            <td>Crime    </td> <td>79   </td> <td>0.0391089   </td>\n",
       "        </tr>\n",
       "    </tbody>\n",
       "        <tr>\n",
       "            <td>Sci-Fi   </td> <td>76   </td> <td>0.0376238   </td>\n",
       "        </tr>\n",
       "    </tbody>\n",
       "        <tr>\n",
       "            <td>Mystery  </td> <td>63   </td> <td>0.0311881   </td>\n",
       "        </tr>\n",
       "    </tbody>\n",
       "</table>\n",
       "<p>... (13 rows omitted)</p"
      ],
      "text/plain": [
       "Genre     | count | p proportion\n",
       "Drama     | 506   | 0.250495\n",
       "Comedy    | 326   | 0.161386\n",
       "Romance   | 149   | 0.0737624\n",
       "Thriller  | 146   | 0.0722772\n",
       "Horror    | 125   | 0.0618812\n",
       "Action    | 119   | 0.0589109\n",
       "Adventure | 108   | 0.0534653\n",
       "Crime     | 79    | 0.0391089\n",
       "Sci-Fi    | 76    | 0.0376238\n",
       "Mystery   | 63    | 0.0311881\n",
       "... (13 rows omitted)"
      ]
     },
     "execution_count": 47,
     "metadata": {},
     "output_type": "execute_result"
    }
   ],
   "source": [
    "p_genres = clean_genres(passes_bechdel)\n",
    "p_genre_count = Table().with_column('Genre', p_genres).group('Genre').sort('count', descending=True)\n",
    "p_genre_count = p_genre_count.with_column('p proportion', p_genre_count['count']/sum(p_genre_count['count']))\n",
    "p_genre_count"
   ]
  },
  {
   "cell_type": "markdown",
   "metadata": {},
   "source": [
    "Let's find the genres with the biggest disparities between passing and not passing!"
   ]
  },
  {
   "cell_type": "code",
   "execution_count": 51,
   "metadata": {
    "collapsed": false
   },
   "outputs": [
    {
     "data": {
      "text/html": [
       "<table border=\"1\" class=\"dataframe\">\n",
       "    <thead>\n",
       "        <tr>\n",
       "            <th>Genre</th> <th>count</th> <th>p proportion</th> <th>count_2</th> <th>f proportion</th> <th>disparity</th>\n",
       "        </tr>\n",
       "    </thead>\n",
       "    <tbody>\n",
       "        <tr>\n",
       "            <td>Action   </td> <td>119  </td> <td>0.0589109   </td> <td>139    </td> <td>0.113841    </td> <td>0.0549302 </td>\n",
       "        </tr>\n",
       "    </tbody>\n",
       "        <tr>\n",
       "            <td>Crime    </td> <td>79   </td> <td>0.0391089   </td> <td>84     </td> <td>0.0687961   </td> <td>0.0296872 </td>\n",
       "        </tr>\n",
       "    </tbody>\n",
       "        <tr>\n",
       "            <td>Thriller </td> <td>146  </td> <td>0.0722772   </td> <td>111    </td> <td>0.0909091   </td> <td>0.0186319 </td>\n",
       "        </tr>\n",
       "    </tbody>\n",
       "        <tr>\n",
       "            <td>Adventure</td> <td>108  </td> <td>0.0534653   </td> <td>83     </td> <td>0.0679771   </td> <td>0.0145117 </td>\n",
       "        </tr>\n",
       "    </tbody>\n",
       "        <tr>\n",
       "            <td>Sci-Fi   </td> <td>76   </td> <td>0.0376238   </td> <td>58     </td> <td>0.047502    </td> <td>0.00987829</td>\n",
       "        </tr>\n",
       "    </tbody>\n",
       "        <tr>\n",
       "            <td>War      </td> <td>7    </td> <td>0.00346535  </td> <td>11     </td> <td>0.00900901  </td> <td>0.00554366</td>\n",
       "        </tr>\n",
       "    </tbody>\n",
       "        <tr>\n",
       "            <td>Western  </td> <td>1    </td> <td>0.00049505  </td> <td>7      </td> <td>0.00573301  </td> <td>0.00523796</td>\n",
       "        </tr>\n",
       "    </tbody>\n",
       "        <tr>\n",
       "            <td>Biography</td> <td>43   </td> <td>0.0212871   </td> <td>32     </td> <td>0.026208    </td> <td>0.0049209 </td>\n",
       "        </tr>\n",
       "    </tbody>\n",
       "        <tr>\n",
       "            <td>Sport    </td> <td>7    </td> <td>0.00346535  </td> <td>10     </td> <td>0.00819001  </td> <td>0.00472466</td>\n",
       "        </tr>\n",
       "    </tbody>\n",
       "        <tr>\n",
       "            <td>Short    </td> <td>2    </td> <td>0.000990099 </td> <td>5      </td> <td>0.004095    </td> <td>0.00310491</td>\n",
       "        </tr>\n",
       "    </tbody>\n",
       "</table>\n",
       "<p>... (13 rows omitted)</p"
      ],
      "text/plain": [
       "Genre     | count | p proportion | count_2 | f proportion | disparity\n",
       "Action    | 119   | 0.0589109    | 139     | 0.113841     | 0.0549302\n",
       "Crime     | 79    | 0.0391089    | 84      | 0.0687961    | 0.0296872\n",
       "Thriller  | 146   | 0.0722772    | 111     | 0.0909091    | 0.0186319\n",
       "Adventure | 108   | 0.0534653    | 83      | 0.0679771    | 0.0145117\n",
       "Sci-Fi    | 76    | 0.0376238    | 58      | 0.047502     | 0.00987829\n",
       "War       | 7     | 0.00346535   | 11      | 0.00900901   | 0.00554366\n",
       "Western   | 1     | 0.00049505   | 7       | 0.00573301   | 0.00523796\n",
       "Biography | 43    | 0.0212871    | 32      | 0.026208     | 0.0049209\n",
       "Sport     | 7     | 0.00346535   | 10      | 0.00819001   | 0.00472466\n",
       "Short     | 2     | 0.000990099  | 5       | 0.004095     | 0.00310491\n",
       "... (13 rows omitted)"
      ]
     },
     "execution_count": 51,
     "metadata": {},
     "output_type": "execute_result"
    }
   ],
   "source": [
    "genre_count = p_genre_count.join(\"Genre\", f_genre_count)\n",
    "genre_count.append_column('disparity', genre_count['f proportion'] - genre_count['p proportion'])\n",
    "genre_count.sort('disparity', descending=True)"
   ]
  },
  {
   "cell_type": "markdown",
   "metadata": {},
   "source": [
    "### Plot Keywords\n",
    "\n",
    "What are the words in the top 10 plot keywords that most indicate a negative bechdel result\n",
    "    - which words are the most distinctly negative words"
   ]
  },
  {
   "cell_type": "markdown",
   "metadata": {},
   "source": [
    "### Time Series Analysis\n",
    "\n",
    "Compare the years of those that passed with those that didn't pass"
   ]
  },
  {
   "cell_type": "markdown",
   "metadata": {},
   "source": [
    "### Conclusion of Analysis\n",
    "\n",
    "This is what we think -- "
   ]
  }
 ],
 "metadata": {
  "kernelspec": {
   "display_name": "Python 3",
   "language": "python",
   "name": "python3"
  },
  "language_info": {
   "codemirror_mode": {
    "name": "ipython",
    "version": 3
   },
   "file_extension": ".py",
   "mimetype": "text/x-python",
   "name": "python",
   "nbconvert_exporter": "python",
   "pygments_lexer": "ipython3",
   "version": "3.5.2"
  }
 },
 "nbformat": 4,
 "nbformat_minor": 0
}
